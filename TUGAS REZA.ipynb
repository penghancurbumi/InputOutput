{
 "cells": [
  {
   "cell_type": "code",
   "execution_count": 89,
   "id": "c6ae4ca5",
   "metadata": {},
   "outputs": [
    {
     "name": "stdout",
     "output_type": "stream",
     "text": [
      "putra nusa \n",
      "NIVERSITAS NSA PTRA SKABUMI\n",
      "SUKABUMI PUTRA NUSA UNIVERSITAS \n",
      "UNPS\n",
      "TAS SAPU BUMI\n"
     ]
    }
   ],
   "source": [
    "kalimat =\"UNIVERSITAS NUSA PUTRA SUKABUMI\"\n",
    "kalimat1 =kalimat.lower()\n",
    "print(kalimat1[17:22],kalimat1[12:17])\n",
    "kalimat2 = kalimat.upper()\n",
    "print(kalimat2[1:11],kalimat2[12]+kalimat2[14:16],kalimat2[17]+kalimat2[19:22],kalimat2[23]+kalimat2[25:31])\n",
    "kalimat3 =kalimat.upper()\n",
    "print(kalimat3[23:31],kalimat3[17:22],kalimat3[12:16],kalimat[0:12])\n",
    "kalimat4 =kalimat.upper()\n",
    "print(kalimat3[0]+kalimat3[12]+kalimat3[17]+kalimat3[23])\n",
    "kalimat4 =kalimat.upper()\n",
    "print(kalimat4[8:11],kalimat4[14:16]+kalimat4[17:19],kalimat4[27:])"
   ]
  },
  {
   "cell_type": "code",
   "execution_count": null,
   "id": "f2168207",
   "metadata": {},
   "outputs": [],
   "source": []
  }
 ],
 "metadata": {
  "kernelspec": {
   "display_name": "Python 3 (ipykernel)",
   "language": "python",
   "name": "python3"
  },
  "language_info": {
   "codemirror_mode": {
    "name": "ipython",
    "version": 3
   },
   "file_extension": ".py",
   "mimetype": "text/x-python",
   "name": "python",
   "nbconvert_exporter": "python",
   "pygments_lexer": "ipython3",
   "version": "3.11.5"
  }
 },
 "nbformat": 4,
 "nbformat_minor": 5
}
