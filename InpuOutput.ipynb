{
 "cells": [
  {
   "cell_type": "code",
   "execution_count": 4,
   "id": "ca668b7d",
   "metadata": {},
   "outputs": [
    {
     "name": "stdout",
     "output_type": "stream",
     "text": [
      "isikan bilangan 1: 13\n",
      "isikan bilangan 2: 13\n",
      "Hasil dari: 13 + 13 = 26\n"
     ]
    }
   ],
   "source": [
    "bil1 = input('isikan bilangan 1: ')\n",
    "bil2 = input('isikan bilangan 2: ')\n",
    "hasil = int(bil1) + int(bil2)\n",
    "print(\"Hasil dari:\",bil1,\"+\",bil2,\"=\",hasil)"
   ]
  },
  {
   "cell_type": "markdown",
   "id": "e9bde75a",
   "metadata": {},
   "source": [
    "<ol>lakukan pengecekan tipe data nilai dari hasil input</ol>"
   ]
  },
  {
   "cell_type": "code",
   "execution_count": 13,
   "id": "dca67f0f",
   "metadata": {},
   "outputs": [
    {
     "name": "stdout",
     "output_type": "stream",
     "text": [
      "panjang :7\n",
      "lebar : 7\n",
      "Luas = 7 x 7 = 21\n",
      "Keliling = 2 * ( 7 + 7 ) = 21\n"
     ]
    }
   ],
   "source": [
    "panjang = input('panjang :')\n",
    "lebar = input('lebar : ')\n",
    "hasil = int(panjang) * int(lebar)\n",
    "hasil = int(2) * int(panjang) + int(lebar)\n",
    "print(\"Luas =\",panjang,\"x\",lebar,\"=\",hasil)\n",
    "print(\"Keliling =\",2,\"*\",\"(\",panjang,\"+\",lebar,\")\",\"=\",hasil )"
   ]
  },
  {
   "cell_type": "code",
   "execution_count": 14,
   "id": "5e1075ff",
   "metadata": {},
   "outputs": [
    {
     "name": "stdout",
     "output_type": "stream",
     "text": [
      "A@_@B@_@C@_@D\n"
     ]
    }
   ],
   "source": [
    "print(\"A\",\"B\",\"C\",\"D\", sep='@_@') #sep = separator / pembatas  "
   ]
  },
  {
   "cell_type": "markdown",
   "id": "919c0ca5",
   "metadata": {},
   "source": [
    "<ol>3. cara melakukan print dengan menambahkan end di akhir baris</ol>"
   ]
  },
  {
   "cell_type": "code",
   "execution_count": 15,
   "id": "228e967d",
   "metadata": {},
   "outputs": [
    {
     "name": "stdout",
     "output_type": "stream",
     "text": [
      "A\n",
      "B\n",
      "C\n",
      "D^_^"
     ]
    }
   ],
   "source": [
    "print(\"A\",\"B\",\"C\",\"D\", sep='\\n', end=\"^_^\")"
   ]
  },
  {
   "cell_type": "code",
   "execution_count": 17,
   "id": "8f480402",
   "metadata": {},
   "outputs": [
    {
     "name": "stdout",
     "output_type": "stream",
     "text": [
      "Hasil dari 8 modulus 10 = 8\n"
     ]
    }
   ],
   "source": [
    "num_1 = 8\n",
    "num_2 = 10\n",
    "\n",
    "# Hasil dari 8 modulus 10 = 8\n",
    "#strr,format()\n",
    "print('Hasil dari {} modulus {} = {}' .format(num_1,num_2,num_1%num_2))\n"
   ]
  },
  {
   "cell_type": "code",
   "execution_count": 19,
   "id": "c7a3b794",
   "metadata": {},
   "outputs": [
    {
     "name": "stdout",
     "output_type": "stream",
     "text": [
      "Nama anda Rudi Hartono Darmawan\n"
     ]
    }
   ],
   "source": [
    "fname = \"Rudi\"\n",
    "mname = \"Hartono\"\n",
    "lname = \"Darmawan\"\n",
    "\n",
    "print('Nama anda {2} {0} {1}' .format(fname,mname,lname))"
   ]
  },
  {
   "cell_type": "markdown",
   "id": "2ea56e71",
   "metadata": {},
   "source": [
    "<h3>pengenalan string<h3>"
   ]
  },
  {
   "cell_type": "code",
   "execution_count": 20,
   "id": "eed1d730",
   "metadata": {},
   "outputs": [
    {
     "name": "stdout",
     "output_type": "stream",
     "text": [
      "Nama anda Andri, nilai anda 70\n"
     ]
    }
   ],
   "source": [
    "print('Nama anda {nama}, nilai anda {nilai}' .format(nama='Andri',nilai=70))"
   ]
  },
  {
   "cell_type": "markdown",
   "id": "c031b8cc",
   "metadata": {},
   "source": [
    "<h3>indexing<h3>"
   ]
  },
  {
   "cell_type": "code",
   "execution_count": 36,
   "id": "6081d643",
   "metadata": {},
   "outputs": [
    {
     "name": "stdout",
     "output_type": "stream",
     "text": [
      "karakter pertama :  U\n",
      "karakter terakhir:  a\n",
      "Universitas\n",
      "Putra\n",
      "Putra\n",
      "artuP asuN satisrevinU\n"
     ]
    }
   ],
   "source": [
    "univ = \"Universitas Nusa Putra\"\n",
    "\n",
    "print(\"karakter pertama : \",univ[0])\n",
    "print(\"karakter terakhir: \",univ[-1])\n",
    "#Universitas\n",
    "print(univ[0:11])\n",
    "print(univ[-5:])\n",
    "print(univ[17:])\n",
    "print(univ[::-1])"
   ]
  },
  {
   "cell_type": "markdown",
   "id": "b30851cd",
   "metadata": {},
   "source": [
    "<h3>STRING<h3>"
   ]
  },
  {
   "cell_type": "code",
   "execution_count": 39,
   "id": "9dd658ee",
   "metadata": {},
   "outputs": [
    {
     "name": "stdout",
     "output_type": "stream",
     "text": [
      "Nama saya Rudi Andri\n",
      "Hasil penjumlahan 100 + 20 = 120\n"
     ]
    }
   ],
   "source": [
    "f_name = \"Rudi\"\n",
    "l_name = 'Andri'\n",
    "\n",
    "print(f'Nama saya {f_name} {l_name}')\n",
    "\n",
    "first = 100\n",
    "second = 20\n",
    "\n",
    "print(f'Hasil penjumlahan {first} + {second} = {first+second}')"
   ]
  },
  {
   "cell_type": "markdown",
   "id": "268caf87",
   "metadata": {},
   "source": [
    "<h3> FUNGSI STRING<h3>"
   ]
  },
  {
   "cell_type": "code",
   "execution_count": 62,
   "id": "0fb8f5ab",
   "metadata": {},
   "outputs": [
    {
     "name": "stdout",
     "output_type": "stream",
     "text": [
      "['Andri', 'Budi', 'Cika']\n",
      "['Andri', 'Budi', 'Cika']\n",
      "Andri@Budi@Cika\n",
      "Masukkan tanggal lahir : 18/oktober/2010\n",
      "Masukkan nama : Bill Gate\n",
      "Output : \n",
      "Tgl : 18,Bulan:oktober,Tahun:2010\n",
      "Nama inisial : BG\n"
     ]
    }
   ],
   "source": [
    "nama = \"Andri,Budi,Cika\"\n",
    "nama2 = \"Andri Budi Cika\"\n",
    "#split -> memisahkan string berdasarkan karakter tertentu\n",
    "print(nama2.split())\n",
    "print(nama.split(','))\n",
    "\n",
    "#join ->mengabungkan string kedalam kumpulan karakter\n",
    "print('@'.join(nama.split(',')))\n",
    "\n",
    "#input tgl lahir -> 18/oktober/2010\n",
    "#input nama -> Bill Gate\n",
    "#outputt\n",
    "#Tgl :18,Bulan:oktober,Tahun : 2010\n",
    "#Nama Inisial : BG\n",
    "\n",
    "tgl = input(\"Masukkan tanggal lahir : \")\n",
    "nama = input(\"Masukkan nama : \")\n",
    "pemisah =tgl.split(\"/\")\n",
    "print(\"Output : \")\n",
    "print(f\"Tgl : {pemisah[0]},Bulan:{pemisah[1]},Tahun:{pemisah[2]}\")\n",
    "pemisah2 = nama.split()\n",
    "nama_pertama =pemisah2[0]\n",
    "nama_terakhir =pemisah2[1]\n",
    "print(f\"Nama inisial : {nama_pertama[0]+nama_terakhir[0]}\")"
   ]
  },
  {
   "cell_type": "code",
   "execution_count": null,
   "id": "e2d75657",
   "metadata": {},
   "outputs": [],
   "source": []
  }
 ],
 "metadata": {
  "kernelspec": {
   "display_name": "Python 3 (ipykernel)",
   "language": "python",
   "name": "python3"
  },
  "language_info": {
   "codemirror_mode": {
    "name": "ipython",
    "version": 3
   },
   "file_extension": ".py",
   "mimetype": "text/x-python",
   "name": "python",
   "nbconvert_exporter": "python",
   "pygments_lexer": "ipython3",
   "version": "3.9.12"
  }
 },
 "nbformat": 4,
 "nbformat_minor": 5
}
